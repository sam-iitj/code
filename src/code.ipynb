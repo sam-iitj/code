{
 "cells": [
  {
   "cell_type": "code",
   "execution_count": 1,
   "metadata": {
    "collapsed": true
   },
   "outputs": [],
   "source": [
    "%reload_ext autoreload\n",
    "%autoreload 2\n",
    "%matplotlib inline"
   ]
  },
  {
   "cell_type": "code",
   "execution_count": 73,
   "metadata": {},
   "outputs": [],
   "source": [
    "import pyspark \n",
    "import shlex \n",
    "import datetime\n",
    "import pandas as pd\n",
    "from pandas import Series\n",
    "from operator import add\n",
    "from dateutil import parser\n",
    "from datetime import timedelta\n",
    "from collections import Counter\n",
    "from pyspark.sql.window import Window\n",
    "import numpy as np; np.random.seed(22)\n",
    "import seaborn as sns; sns.set(color_codes=True)\n",
    "import matplotlib.pyplot as plt\n",
    "from pandas import read_csv\n",
    "from pandas import datetime\n",
    "from matplotlib import pyplot"
   ]
  },
  {
   "cell_type": "code",
   "execution_count": 5,
   "metadata": {},
   "outputs": [],
   "source": [
    "import statsmodels.api as sm\n",
    "import statsmodels.formula.api as smf\n",
    "from statsmodels.tsa.stattools import adfuller"
   ]
  },
  {
   "cell_type": "code",
   "execution_count": 4,
   "metadata": {},
   "outputs": [],
   "source": [
    "sc = pyspark.SparkContext()"
   ]
  },
  {
   "cell_type": "markdown",
   "metadata": {},
   "source": [
    "##### Reading the log file "
   ]
  },
  {
   "cell_type": "code",
   "execution_count": 212,
   "metadata": {
    "collapsed": true
   },
   "outputs": [],
   "source": [
    "rdd_file = sc.textFile(\"WeblogChallenge/data/2015_07_22_mktplace_shop_web_log_sample.log.gz\")"
   ]
  },
  {
   "cell_type": "code",
   "execution_count": 213,
   "metadata": {},
   "outputs": [
    {
     "data": {
      "text/plain": [
       "1158500"
      ]
     },
     "execution_count": 213,
     "metadata": {},
     "output_type": "execute_result"
    }
   ],
   "source": [
    "rdd_file.count()"
   ]
  },
  {
   "cell_type": "code",
   "execution_count": 214,
   "metadata": {},
   "outputs": [],
   "source": [
    "rdd_file = sc.parallelize(rdd_file.take(100000))"
   ]
  },
  {
   "cell_type": "markdown",
   "metadata": {},
   "source": [
    "## Processing & Analytical goals"
   ]
  },
  {
   "cell_type": "markdown",
   "metadata": {},
   "source": [
    "##### a) Processing the log files "
   ]
  },
  {
   "cell_type": "code",
   "execution_count": 215,
   "metadata": {
    "collapsed": true
   },
   "outputs": [],
   "source": [
    "def processLogs(x):\n",
    "    \"\"\"\n",
    "    Takes in a line from the logs as inputs \n",
    "    and splits them into individual components \n",
    "    \"\"\"\n",
    "    keys = ['timestamp', 'elb',  'client:port',  'backend:port',  'request_processing_time',  \\\n",
    "            'backend_processing_time', 'response_processing_time', 'elb_status_code', 'backend_status_code', \\\n",
    "            'received_bytes', 'sent_bytes', 'request', 'user_agent', 'ssl_cipher', 'ssl_protocol']\n",
    "    values = shlex.split(x)\n",
    "    dict_ = dict({k:v for k, v in zip(keys, values)})\n",
    "    return dict_"
   ]
  },
  {
   "cell_type": "code",
   "execution_count": 216,
   "metadata": {
    "collapsed": true
   },
   "outputs": [],
   "source": [
    "rdd_file = rdd_file.map(lambda x: processLogs(x))"
   ]
  },
  {
   "cell_type": "code",
   "execution_count": 217,
   "metadata": {},
   "outputs": [
    {
     "data": {
      "text/plain": [
       "[{'backend:port': '10.0.6.158:80',\n",
       "  'backend_processing_time': '0.026109',\n",
       "  'backend_status_code': '200',\n",
       "  'client:port': '123.242.248.130:54635',\n",
       "  'elb': 'marketpalce-shop',\n",
       "  'elb_status_code': '200',\n",
       "  'received_bytes': '0',\n",
       "  'request': 'GET https://paytm.com:443/shop/authresponse?code=f2405b05-e2ee-4b0d-8f6a-9fed0fcfe2e0&state=null HTTP/1.1',\n",
       "  'request_processing_time': '0.000022',\n",
       "  'response_processing_time': '0.00002',\n",
       "  'sent_bytes': '699',\n",
       "  'ssl_cipher': 'ECDHE-RSA-AES128-GCM-SHA256',\n",
       "  'ssl_protocol': 'TLSv1.2',\n",
       "  'timestamp': '2015-07-22T09:00:28.019143Z',\n",
       "  'user_agent': 'Mozilla/5.0 (Windows NT 6.1; WOW64) AppleWebKit/537.36 (KHTML, like Gecko) Chrome/43.0.2357.130 Safari/537.36'}]"
      ]
     },
     "execution_count": 217,
     "metadata": {},
     "output_type": "execute_result"
    }
   ],
   "source": [
    "rdd_file.take(1)"
   ]
  },
  {
   "cell_type": "markdown",
   "metadata": {},
   "source": [
    "##### b) Sessionalize the data with ip addess as the key "
   ]
  },
  {
   "cell_type": "code",
   "execution_count": 218,
   "metadata": {},
   "outputs": [
    {
     "data": {
      "text/plain": [
       "('2015-07-22T09:00:23.610970Z', '2015-07-22T10:45:28.051374Z')"
      ]
     },
     "execution_count": 218,
     "metadata": {},
     "output_type": "execute_result"
    }
   ],
   "source": [
    "rdd_file.map(lambda x:x['timestamp']).min(), rdd_file.map(lambda x:x['timestamp']).max()"
   ]
  },
  {
   "cell_type": "code",
   "execution_count": 219,
   "metadata": {
    "collapsed": true
   },
   "outputs": [],
   "source": [
    "def makeTimeBuckets(mintime, maxtime, interval):\n",
    "    buckets = []\n",
    "    while mintime < maxtime:\n",
    "        buckets.append((mintime, mintime + timedelta(minutes=interval)))\n",
    "        mintime = mintime + timedelta(minutes=interval)\n",
    "    return buckets"
   ]
  },
  {
   "cell_type": "code",
   "execution_count": 220,
   "metadata": {
    "collapsed": true
   },
   "outputs": [],
   "source": [
    "minTime = parser.parse(rdd_file.map(lambda x:x['timestamp']).min())\n",
    "maxTime = parser.parse(rdd_file.map(lambda x:x['timestamp']).max())"
   ]
  },
  {
   "cell_type": "code",
   "execution_count": 221,
   "metadata": {},
   "outputs": [],
   "source": [
    "buckets = makeTimeBuckets(mintime=minTime, maxtime=maxTime, interval=3)"
   ]
  },
  {
   "cell_type": "code",
   "execution_count": 222,
   "metadata": {},
   "outputs": [
    {
     "data": {
      "text/plain": [
       "36"
      ]
     },
     "execution_count": 222,
     "metadata": {},
     "output_type": "execute_result"
    }
   ],
   "source": [
    "len(buckets)"
   ]
  },
  {
   "cell_type": "code",
   "execution_count": 223,
   "metadata": {
    "collapsed": true
   },
   "outputs": [],
   "source": [
    "def getSessions(x, buckets=buckets):\n",
    "    dt = parser.parse(x['timestamp'])\n",
    "    for i in range(len(buckets)):\n",
    "        if dt >= buckets[i][0] and dt <= buckets[i][1]:\n",
    "            x['session'] = str(i) \n",
    "            break \n",
    "    return x"
   ]
  },
  {
   "cell_type": "code",
   "execution_count": 224,
   "metadata": {
    "collapsed": true
   },
   "outputs": [],
   "source": [
    "session_data = rdd_file.map(lambda x: getSessions(x))"
   ]
  },
  {
   "cell_type": "code",
   "execution_count": 225,
   "metadata": {},
   "outputs": [
    {
     "data": {
      "text/plain": [
       "[{'backend:port': '10.0.6.158:80',\n",
       "  'backend_processing_time': '0.026109',\n",
       "  'backend_status_code': '200',\n",
       "  'client:port': '123.242.248.130:54635',\n",
       "  'elb': 'marketpalce-shop',\n",
       "  'elb_status_code': '200',\n",
       "  'received_bytes': '0',\n",
       "  'request': 'GET https://paytm.com:443/shop/authresponse?code=f2405b05-e2ee-4b0d-8f6a-9fed0fcfe2e0&state=null HTTP/1.1',\n",
       "  'request_processing_time': '0.000022',\n",
       "  'response_processing_time': '0.00002',\n",
       "  'sent_bytes': '699',\n",
       "  'session': '0',\n",
       "  'ssl_cipher': 'ECDHE-RSA-AES128-GCM-SHA256',\n",
       "  'ssl_protocol': 'TLSv1.2',\n",
       "  'timestamp': '2015-07-22T09:00:28.019143Z',\n",
       "  'user_agent': 'Mozilla/5.0 (Windows NT 6.1; WOW64) AppleWebKit/537.36 (KHTML, like Gecko) Chrome/43.0.2357.130 Safari/537.36'}]"
      ]
     },
     "execution_count": 225,
     "metadata": {},
     "output_type": "execute_result"
    }
   ],
   "source": [
    "session_data.take(1)"
   ]
  },
  {
   "cell_type": "code",
   "execution_count": 226,
   "metadata": {
    "collapsed": true
   },
   "outputs": [],
   "source": [
    "session_data_client_session = session_data.map(lambda x:((x['client:port'], x['session']), x))"
   ]
  },
  {
   "cell_type": "code",
   "execution_count": 227,
   "metadata": {},
   "outputs": [
    {
     "data": {
      "text/plain": [
       "[(('123.242.248.130:54635', '0'),\n",
       "  {'backend:port': '10.0.6.158:80',\n",
       "   'backend_processing_time': '0.026109',\n",
       "   'backend_status_code': '200',\n",
       "   'client:port': '123.242.248.130:54635',\n",
       "   'elb': 'marketpalce-shop',\n",
       "   'elb_status_code': '200',\n",
       "   'received_bytes': '0',\n",
       "   'request': 'GET https://paytm.com:443/shop/authresponse?code=f2405b05-e2ee-4b0d-8f6a-9fed0fcfe2e0&state=null HTTP/1.1',\n",
       "   'request_processing_time': '0.000022',\n",
       "   'response_processing_time': '0.00002',\n",
       "   'sent_bytes': '699',\n",
       "   'session': '0',\n",
       "   'ssl_cipher': 'ECDHE-RSA-AES128-GCM-SHA256',\n",
       "   'ssl_protocol': 'TLSv1.2',\n",
       "   'timestamp': '2015-07-22T09:00:28.019143Z',\n",
       "   'user_agent': 'Mozilla/5.0 (Windows NT 6.1; WOW64) AppleWebKit/537.36 (KHTML, like Gecko) Chrome/43.0.2357.130 Safari/537.36'})]"
      ]
     },
     "execution_count": 227,
     "metadata": {},
     "output_type": "execute_result"
    }
   ],
   "source": [
    "session_data_client_session.take(1)"
   ]
  },
  {
   "cell_type": "markdown",
   "metadata": {},
   "source": [
    "##### c) Determining the average session time "
   ]
  },
  {
   "cell_type": "code",
   "execution_count": 228,
   "metadata": {
    "collapsed": true
   },
   "outputs": [],
   "source": [
    "average_time_data = (session_data_client_session\n",
    "                     .map(lambda x:(x[0],[x[1]['timestamp']]))\n",
    "                     .reduceByKey(lambda x, y: x + y)\n",
    "                     .map(lambda x: (parser.parse(max(x[1])) - parser.parse(min(x[1]))).total_seconds())\n",
    "                     .mean())"
   ]
  },
  {
   "cell_type": "code",
   "execution_count": 229,
   "metadata": {},
   "outputs": [
    {
     "name": "stdout",
     "output_type": "stream",
     "text": [
      "Average session time : 11.2683760498 seconds \n"
     ]
    }
   ],
   "source": [
    "print \"Average session time : %s seconds \" %(average_time_data)"
   ]
  },
  {
   "cell_type": "code",
   "execution_count": null,
   "metadata": {
    "collapsed": true
   },
   "outputs": [],
   "source": []
  },
  {
   "cell_type": "markdown",
   "metadata": {},
   "source": [
    "##### d) Unique URLs hit per session"
   ]
  },
  {
   "cell_type": "code",
   "execution_count": 230,
   "metadata": {
    "collapsed": true
   },
   "outputs": [],
   "source": [
    "def processLists(x):\n",
    "    return len(set(list(x)))"
   ]
  },
  {
   "cell_type": "code",
   "execution_count": 231,
   "metadata": {
    "collapsed": true
   },
   "outputs": [],
   "source": [
    "url_data = (session_data_client_session\n",
    "            .map(lambda x: (x[0][1], x[1]['request']))\n",
    "            .groupBy(lambda x:x[0])\n",
    "            .map(lambda x:(x[0], processLists(x[1])))\n",
    "            .collect())"
   ]
  },
  {
   "cell_type": "code",
   "execution_count": 232,
   "metadata": {},
   "outputs": [
    {
     "name": "stdout",
     "output_type": "stream",
     "text": [
      "Unique urls count for each session : [('1', 8599), ('0', 15722), ('35', 1)] \n"
     ]
    }
   ],
   "source": [
    "print \"Unique urls count for each session : %s \" %(url_data)"
   ]
  },
  {
   "cell_type": "code",
   "execution_count": null,
   "metadata": {
    "collapsed": true
   },
   "outputs": [],
   "source": []
  },
  {
   "cell_type": "markdown",
   "metadata": {},
   "source": [
    "##### e) Most engaged user, i.e. IP with the longest session time "
   ]
  },
  {
   "cell_type": "code",
   "execution_count": 233,
   "metadata": {
    "collapsed": true
   },
   "outputs": [],
   "source": [
    "most_engaged = (session_data_client_session\n",
    "                .map(lambda x:(x[0],[x[1]['timestamp']]))\n",
    "                .reduceByKey(lambda x, y: x + y)\n",
    "                .map(lambda x: (x[0], (parser.parse(max(x[1])) - parser.parse(min(x[1]))).total_seconds()))\n",
    "                .takeOrdered(1, key = lambda x: -x[1]))"
   ]
  },
  {
   "cell_type": "code",
   "execution_count": 234,
   "metadata": {},
   "outputs": [
    {
     "data": {
      "text/plain": [
       "[(('116.203.74.167:4161', '0'), 174.666226)]"
      ]
     },
     "execution_count": 234,
     "metadata": {},
     "output_type": "execute_result"
    }
   ],
   "source": [
    "most_engaged"
   ]
  },
  {
   "cell_type": "code",
   "execution_count": 235,
   "metadata": {},
   "outputs": [
    {
     "name": "stdout",
     "output_type": "stream",
     "text": [
      "Most engaged user based on the maximum session time : 116.203.74.167:4161 \n"
     ]
    }
   ],
   "source": [
    "print \"Most engaged user based on the maximum session time : %s \" % (most_engaged[0][0][0])"
   ]
  },
  {
   "cell_type": "code",
   "execution_count": null,
   "metadata": {
    "collapsed": true
   },
   "outputs": [],
   "source": []
  },
  {
   "cell_type": "markdown",
   "metadata": {},
   "source": [
    "#### Predict the expected load (requests/second) in the next minute"
   ]
  },
  {
   "cell_type": "code",
   "execution_count": 236,
   "metadata": {
    "collapsed": true
   },
   "outputs": [],
   "source": [
    "def RMSE(predicted, actual):\n",
    "    mse = (predicted - actual)**2\n",
    "    rmse = np.sqrt(mse.sum()/mse.count())\n",
    "    return rmse"
   ]
  },
  {
   "cell_type": "code",
   "execution_count": 237,
   "metadata": {
    "collapsed": true
   },
   "outputs": [],
   "source": [
    "def makeTimeSecondsBuckets(mintime, maxtime, interval):\n",
    "    buckets = []\n",
    "    while mintime < maxtime:\n",
    "        buckets.append((mintime, mintime + timedelta(minutes=interval)))\n",
    "        mintime = mintime + timedelta(seconds=interval)\n",
    "    return buckets"
   ]
  },
  {
   "cell_type": "code",
   "execution_count": 238,
   "metadata": {},
   "outputs": [],
   "source": [
    "minTime = parser.parse(rdd_file.map(lambda x:x['timestamp']).min())\n",
    "maxTime = parser.parse(rdd_file.map(lambda x:x['timestamp']).max())\n",
    "secondbuckets = makeTimeSecondsBuckets(mintime=minTime, maxtime=maxTime, interval=1)"
   ]
  },
  {
   "cell_type": "code",
   "execution_count": 239,
   "metadata": {},
   "outputs": [
    {
     "data": {
      "text/plain": [
       "6305"
      ]
     },
     "execution_count": 239,
     "metadata": {},
     "output_type": "execute_result"
    }
   ],
   "source": [
    "len(secondbuckets)"
   ]
  },
  {
   "cell_type": "code",
   "execution_count": 240,
   "metadata": {
    "collapsed": true
   },
   "outputs": [],
   "source": [
    "def matchSecondsTime(x, buckets=secondbuckets):\n",
    "    dt = parser.parse(x)\n",
    "    index = 0 \n",
    "    for i in range(len(buckets)):\n",
    "        index = i \n",
    "        if dt >= buckets[i][0] and dt < buckets[i][1]:\n",
    "            break \n",
    "    return index "
   ]
  },
  {
   "cell_type": "code",
   "execution_count": 241,
   "metadata": {
    "collapsed": true
   },
   "outputs": [],
   "source": [
    "requests_per_second = (session_data_client_session\n",
    "                       .map(lambda x:x[1]['timestamp'])\n",
    "                       .map(lambda x: matchSecondsTime(x))\n",
    "                       .map(lambda w: (w,1))\n",
    "                       .reduceByKey(lambda a, b: a+b)\n",
    "                       .sortByKey())"
   ]
  },
  {
   "cell_type": "code",
   "execution_count": 242,
   "metadata": {},
   "outputs": [
    {
     "data": {
      "text/plain": [
       "[(0, 21179), (1, 437)]"
      ]
     },
     "execution_count": 242,
     "metadata": {},
     "output_type": "execute_result"
    }
   ],
   "source": [
    "requests_per_second.take(2)"
   ]
  },
  {
   "cell_type": "code",
   "execution_count": 243,
   "metadata": {},
   "outputs": [
    {
     "data": {
      "image/png": "[encoded data removed]",
      "text/plain": [
       "<matplotlib.figure.Figure at 0x114757050>"
      ]
     },
     "metadata": {},
     "output_type": "display_data"
    }
   ],
   "source": [
    "ax = sns.tsplot(data=map(lambda x:x[1], requests_per_second.collect()))"
   ]
  },
  {
   "cell_type": "code",
   "execution_count": 244,
   "metadata": {
    "collapsed": true
   },
   "outputs": [],
   "source": [
    "df = pd.DataFrame()"
   ]
  },
  {
   "cell_type": "code",
   "execution_count": 245,
   "metadata": {
    "collapsed": true
   },
   "outputs": [],
   "source": [
    "df['ts'] = map(lambda x:x[0], requests_per_second.collect())\n",
    "df['rps'] = map(lambda x:x[1], requests_per_second.collect())"
   ]
  },
  {
   "cell_type": "code",
   "execution_count": 246,
   "metadata": {
    "collapsed": true
   },
   "outputs": [],
   "source": [
    "df['rpsLog'] = np.log(df['rps'])"
   ]
  },
  {
   "cell_type": "code",
   "execution_count": 247,
   "metadata": {},
   "outputs": [],
   "source": [
    "df['rpsMAp12'] = Series.rolling(df.rpsLog, window = 12).mean()\n",
    "df['rpsExp12'] = Series.ewm(df.rpsLog, halflife=12).mean()"
   ]
  },
  {
   "cell_type": "code",
   "execution_count": 248,
   "metadata": {},
   "outputs": [],
   "source": [
    "df[\"rpsMA12forecast\"] = np.exp(df.rpsMAp12)\n",
    "df[\"rpsExp12forecast\"] = np.exp(df.rpsExp12)"
   ]
  },
  {
   "cell_type": "code",
   "execution_count": 249,
   "metadata": {},
   "outputs": [
    {
     "name": "stdout",
     "output_type": "stream",
     "text": [
      "RMSE with Simple Moving Average :  54.0820234859 \n",
      "RMSE with Simple Exponential Smoothing Model (SES)  :  206.053095769 \n"
     ]
    }
   ],
   "source": [
    "# Root Mean Squared Error (RMSE)\n",
    "model_MA12_RMSE = RMSE(df.rpsMA12forecast, df.rps)\n",
    "model_EX12_RMSE = RMSE(df.rpsExp12forecast, df.rps)\n",
    "\n",
    "print \"RMSE with Simple Moving Average :  %s \" %(model_MA12_RMSE)\n",
    "print \"RMSE with Simple Exponential Smoothing Model (SES)  :  %s \" %(model_EX12_RMSE)"
   ]
  },
  {
   "cell_type": "code",
   "execution_count": 250,
   "metadata": {},
   "outputs": [
    {
     "data": {
      "text/plain": [
       "<matplotlib.axes._subplots.AxesSubplot at 0x12a239250>"
      ]
     },
     "execution_count": 250,
     "metadata": {},
     "output_type": "execute_result"
    },
    {
     "data": {
      "image/png": "[encoded data removed]",
      "text/plain": [
       "<matplotlib.figure.Figure at 0x114a224d0>"
      ]
     },
     "metadata": {},
     "output_type": "display_data"
    }
   ],
   "source": [
    "df.plot(kind =\"line\", y=[\"rpsMA12forecast\", \"rpsExp12forecast\", \"rps\"])"
   ]
  },
  {
   "cell_type": "code",
   "execution_count": null,
   "metadata": {
    "collapsed": true
   },
   "outputs": [],
   "source": []
  },
  {
   "cell_type": "code",
   "execution_count": null,
   "metadata": {
    "collapsed": true
   },
   "outputs": [],
   "source": []
  },
  {
   "cell_type": "markdown",
   "metadata": {},
   "source": [
    "#### Predict the session length for a given IP"
   ]
  },
  {
   "cell_type": "code",
   "execution_count": 251,
   "metadata": {},
   "outputs": [],
   "source": [
    "ip_session_size = (session_data_client_session\n",
    "                   .map(lambda x:(x[0],[x[1]['timestamp']]))\n",
    "                   .reduceByKey(lambda x, y: x + y)\n",
    "                   .map(lambda x: (x[0], (parser.parse(max(x[1])) - parser.parse(min(x[1]))).total_seconds())))"
   ]
  },
  {
   "cell_type": "code",
   "execution_count": 252,
   "metadata": {},
   "outputs": [
    {
     "data": {
      "text/plain": [
       "[(('106.51.233.17:5299', '1'), 3.276494),\n",
       " (('123.242.248.130:20400', '0'), 1.39116)]"
      ]
     },
     "execution_count": 252,
     "metadata": {},
     "output_type": "execute_result"
    }
   ],
   "source": [
    "ip_session_size.take(2)"
   ]
  },
  {
   "cell_type": "code",
   "execution_count": 253,
   "metadata": {
    "collapsed": true
   },
   "outputs": [],
   "source": [
    "ip_session_size_group_by_ip = (ip_session_size\n",
    "                               .map(lambda x: (x[0][0], [x[1]]))\n",
    "                               .reduceByKey(lambda x, y: x + y))"
   ]
  },
  {
   "cell_type": "code",
   "execution_count": 254,
   "metadata": {},
   "outputs": [
    {
     "data": {
      "text/plain": [
       "[('61.3.154.152:11059', [41.858636]),\n",
       " ('112.196.37.218:45765', [57.758666]),\n",
       " ('180.179.213.94:50530', [0.0]),\n",
       " ('180.178.24.61:7447', [7.962457, 41.484762])]"
      ]
     },
     "execution_count": 254,
     "metadata": {},
     "output_type": "execute_result"
    }
   ],
   "source": [
    "ip_session_size_group_by_ip.take(4)"
   ]
  },
  {
   "cell_type": "code",
   "execution_count": 255,
   "metadata": {
    "collapsed": true
   },
   "outputs": [],
   "source": [
    "def trainMovingAverageModel(x):\n",
    "    try:\n",
    "        df = pd.DataFrame()\n",
    "        df['sessionLength'] = x\n",
    "        df['sessionLengthLog'] = np.log(df['sessionLength'])\n",
    "        df['sessionLengthLogMA12'] = Series.rolling(df.sessionLengthLog, window = 1).mean()\n",
    "        df[\"sessionLengthLogMA12forecast\"] = np.exp(df.sessionLengthLogMA12)\n",
    "        model_RMSE = RMSE(df.sessionLengthLogMA12forecast, df.sessionLength)\n",
    "        return model_RMSE\n",
    "    except Exception as e:\n",
    "        return 0.0 "
   ]
  },
  {
   "cell_type": "code",
   "execution_count": 256,
   "metadata": {},
   "outputs": [],
   "source": [
    "ip_session_RMSE_per_user = (ip_session_size_group_by_ip\n",
    "                            .map(lambda x: trainMovingAverageModel(x[1]))\n",
    "                            .filter(lambda x: x != 0)\n",
    "                            .mean())"
   ]
  },
  {
   "cell_type": "code",
   "execution_count": 257,
   "metadata": {},
   "outputs": [
    {
     "name": "stdout",
     "output_type": "stream",
     "text": [
      "RMSE error of model to predict session length for each IP : 8.25811736469e-15\n"
     ]
    }
   ],
   "source": [
    "print \"RMSE error of model to predict session length for each IP : %s\" % (ip_session_RMSE_per_user)"
   ]
  },
  {
   "cell_type": "code",
   "execution_count": null,
   "metadata": {
    "collapsed": true
   },
   "outputs": [],
   "source": []
  },
  {
   "cell_type": "code",
   "execution_count": null,
   "metadata": {
    "collapsed": true
   },
   "outputs": [],
   "source": []
  },
  {
   "cell_type": "markdown",
   "metadata": {},
   "source": [
    "#### Predict the number of unique URL visits by a given IP"
   ]
  },
  {
   "cell_type": "code",
   "execution_count": 258,
   "metadata": {
    "collapsed": true
   },
   "outputs": [],
   "source": [
    "ip_url_data = (session_data_client_session\n",
    "               .map(lambda x:(x[0],[x[1]['request']]))\n",
    "               .reduceByKey(lambda x, y: x + y)\n",
    "               .map(lambda x:(x[0], len(set(x[1]))))\n",
    "               .map(lambda x:(x[0][0], [x[1]]))\n",
    "               .reduceByKey(lambda x, y: x + y))"
   ]
  },
  {
   "cell_type": "code",
   "execution_count": 259,
   "metadata": {},
   "outputs": [
    {
     "data": {
      "text/plain": [
       "[('61.3.154.152:11059', [2]),\n",
       " ('112.196.37.218:45765', [4]),\n",
       " ('180.179.213.94:50530', [1]),\n",
       " ('180.178.24.61:7447', [5, 18]),\n",
       " ('182.74.245.226:49730', [2, 2]),\n",
       " ('103.231.217.134:60661', [3]),\n",
       " ('101.222.160.107:60347', [2]),\n",
       " ('106.216.166.183:21490', [8, 6]),\n",
       " ('106.186.23.95:36476', [1]),\n",
       " ('182.59.91.134:12546', [2])]"
      ]
     },
     "execution_count": 259,
     "metadata": {},
     "output_type": "execute_result"
    }
   ],
   "source": [
    "ip_url_data.take(10)"
   ]
  },
  {
   "cell_type": "code",
   "execution_count": 260,
   "metadata": {
    "collapsed": true
   },
   "outputs": [],
   "source": [
    "ip_url_data_RMSE_mean = (ip_url_data\n",
    "                         .map(lambda x: trainMovingAverageModel(x[1]))\n",
    "                         .filter(lambda x: x != 0)\n",
    "                         .mean())"
   ]
  },
  {
   "cell_type": "code",
   "execution_count": 261,
   "metadata": {},
   "outputs": [
    {
     "name": "stdout",
     "output_type": "stream",
     "text": [
      "RMSE error of model to predict unique URL visits by a given IP : 9.78649280791e-16\n"
     ]
    }
   ],
   "source": [
    "print \"RMSE error of model to predict unique URL visits by a given IP : %s\" %(ip_url_data_RMSE_mean)"
   ]
  },
  {
   "cell_type": "code",
   "execution_count": null,
   "metadata": {
    "collapsed": true
   },
   "outputs": [],
   "source": []
  },
  {
   "cell_type": "code",
   "execution_count": null,
   "metadata": {
    "collapsed": true
   },
   "outputs": [],
   "source": []
  },
  {
   "cell_type": "code",
   "execution_count": null,
   "metadata": {
    "collapsed": true
   },
   "outputs": [],
   "source": []
  },
  {
   "cell_type": "code",
   "execution_count": null,
   "metadata": {
    "collapsed": true
   },
   "outputs": [],
   "source": []
  }
 ],
 "metadata": {
  "kernelspec": {
   "display_name": "Python 2",
   "language": "python",
   "name": "python2"
  },
  "language_info": {
   "codemirror_mode": {
    "name": "ipython",
    "version": 2
   },
   "file_extension": ".py",
   "mimetype": "text/x-python",
   "name": "python",
   "nbconvert_exporter": "python",
   "pygments_lexer": "ipython2",
   "version": "2.7.12"
  }
 },
 "nbformat": 4,
 "nbformat_minor": 2
}
